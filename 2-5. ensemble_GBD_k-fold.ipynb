{
 "cells": [
  {
   "cell_type": "code",
   "execution_count": 1,
   "id": "54fde587",
   "metadata": {},
   "outputs": [],
   "source": [
    "import pandas as pd\n",
    "import numpy as np\n",
    "from collections import Counter\n",
    "from sklearn.metrics import confusion_matrix,classification_report\n",
    "import tensorflow as tf\n",
    "import joblib\n",
    "%matplotlib inline\n",
    "\n",
    "np.random.seed(3)\n",
    "tf.random.set_seed(3)"
   ]
  },
  {
   "cell_type": "code",
   "execution_count": 2,
   "id": "69be3a8a",
   "metadata": {},
   "outputs": [
    {
     "data": {
      "text/plain": [
       "array([[0, 0, 0],\n",
       "       [0, 0, 0],\n",
       "       [0, 0, 0],\n",
       "       ...,\n",
       "       [1, 1, 1],\n",
       "       [1, 1, 1],\n",
       "       [1, 1, 1]])"
      ]
     },
     "execution_count": 2,
     "metadata": {},
     "output_type": "execute_result"
    }
   ],
   "source": [
    "# 건강 보험 공단 딥러닝, SVM, RF 결과 저장한npy\n",
    "pre_df = np.load('ensemble_x.npy')\n",
    "y_cate = np.load('y_cate.npy')\n",
    "y = np.load('y.npy')\n",
    "\n",
    "pre_df"
   ]
  },
  {
   "cell_type": "markdown",
   "id": "bc41c740",
   "metadata": {},
   "source": [
    "## Stacking Ensemble"
   ]
  },
  {
   "cell_type": "code",
   "execution_count": 9,
   "id": "f25d0fb5",
   "metadata": {},
   "outputs": [],
   "source": [
    "from sklearn import metrics"
   ]
  },
  {
   "cell_type": "code",
   "execution_count": 10,
   "id": "fce81abf",
   "metadata": {},
   "outputs": [],
   "source": [
    "from tensorflow.keras.layers import Input,Dense,SimpleRNN, Dropout\n",
    "from tensorflow.keras.models import Model\n",
    "from tensorflow.keras.models import Sequential\n",
    "from tensorflow.keras.regularizers import L1, L2,L1L2\n",
    "from tensorflow.keras.wrappers.scikit_learn import KerasClassifier\n",
    "from sklearn.model_selection import KFold"
   ]
  },
  {
   "cell_type": "code",
   "execution_count": 11,
   "id": "e4d266b1",
   "metadata": {},
   "outputs": [],
   "source": [
    "METRICS = [ \n",
    "      tf.keras.metrics.TruePositives(name='tp'),\n",
    "      tf.keras.metrics.FalsePositives(name='fp'),\n",
    "      tf.keras.metrics.TrueNegatives(name='tn'),\n",
    "      tf.keras.metrics.FalseNegatives(name='fn'), \n",
    "      tf.keras.metrics.BinaryAccuracy(name='accuracy'),\n",
    "      tf.keras.metrics.Precision(name='precision'),\n",
    "      tf.keras.metrics.Recall(name='recall'),\n",
    "      tf.keras.metrics.AUC(name='auc'),\n",
    "      tf.keras.metrics.AUC(name='prc', curve='PR'), # precision-recall curve\n",
    "]"
   ]
  },
  {
   "cell_type": "code",
   "execution_count": 12,
   "id": "7047e9d2",
   "metadata": {},
   "outputs": [],
   "source": [
    "#, kernel_regularizer=l2(0.02)\n",
    "model = Sequential()\n",
    "model.add(Dense(512,activation=\"relu\",  input_dim=3))\n",
    "model.add(Dense(256,activation=\"relu\", kernel_regularizer=L2(0.001)))\n",
    "model.add(Dense(128,activation=\"relu\"))\n",
    "model.add(Dense(64,activation=\"relu\", kernel_regularizer=L2(0.001)))\n",
    "model.add(Dense(32,activation=\"relu\"))\n",
    "model.add(Dense(1, activation='sigmoid', kernel_regularizer=L2(0.001)))\n",
    "    \n",
    "model.compile(optimizer='rmsprop',loss='binary_crossentropy',metrics=METRICS)"
   ]
  },
  {
   "cell_type": "code",
   "execution_count": 13,
   "id": "8e20f518",
   "metadata": {},
   "outputs": [],
   "source": [
    "early_stopping = tf.keras.callbacks.EarlyStopping(\n",
    "    monitor='auc', \n",
    "    verbose=1,\n",
    "    patience=10,\n",
    "    mode='max',\n",
    "    restore_best_weights=True)"
   ]
  },
  {
   "cell_type": "code",
   "execution_count": 14,
   "id": "512295bd",
   "metadata": {},
   "outputs": [],
   "source": [
    "from sklearn.model_selection import StratifiedKFold,KFold \n",
    "from sklearn.model_selection import cross_val_score\n",
    "from sklearn.metrics import accuracy_score,classification_report,confusion_matrix"
   ]
  },
  {
   "cell_type": "code",
   "execution_count": 18,
   "id": "463da86e",
   "metadata": {},
   "outputs": [],
   "source": [
    "early_stopping = tf.keras.callbacks.EarlyStopping(\n",
    "    monitor='auc', \n",
    "    verbose=1,\n",
    "    patience=10,\n",
    "    mode='max',\n",
    "    restore_best_weights=True)"
   ]
  },
  {
   "cell_type": "code",
   "execution_count": 16,
   "id": "f2a6e7b3",
   "metadata": {},
   "outputs": [],
   "source": [
    "kfold = StratifiedKFold(n_splits=5) \n",
    "cnt_iter=0\n",
    "cv_accuracy=[]\n",
    "AUC=[]"
   ]
  },
  {
   "cell_type": "code",
   "execution_count": 19,
   "id": "7d70ecb3",
   "metadata": {},
   "outputs": [
    {
     "name": "stdout",
     "output_type": "stream",
     "text": [
      "Restoring model weights from the end of the best epoch.\n",
      "Epoch 00028: early stopping\n"
     ]
    },
    {
     "name": "stderr",
     "output_type": "stream",
     "text": [
      "C:\\Users\\dladu\\AppData\\Roaming\\Python\\Python38\\site-packages\\tensorflow\\python\\keras\\engine\\sequential.py:455: UserWarning: `model.predict_classes()` is deprecated and will be removed after 2021-01-01. Please use instead:* `np.argmax(model.predict(x), axis=-1)`,   if your model does multi-class classification   (e.g. if it uses a `softmax` last-layer activation).* `(model.predict(x) > 0.5).astype(\"int32\")`,   if your model does binary classification   (e.g. if it uses a `sigmoid` last-layer activation).\n",
      "  warnings.warn('`model.predict_classes()` is deprecated and '\n"
     ]
    },
    {
     "name": "stdout",
     "output_type": "stream",
     "text": [
      "0.9169\n"
     ]
    },
    {
     "name": "stderr",
     "output_type": "stream",
     "text": [
      "C:\\Users\\dladu\\AppData\\Roaming\\Python\\Python38\\site-packages\\tensorflow\\python\\keras\\engine\\sequential.py:430: UserWarning: `model.predict_proba()` is deprecated and will be removed after 2021-01-01. Please use `model.predict()` instead.\n",
      "  warnings.warn('`model.predict_proba()` is deprecated and '\n"
     ]
    },
    {
     "name": "stdout",
     "output_type": "stream",
     "text": [
      "[[ 651   51]\n",
      " [ 557 6056]]\n",
      "              precision    recall  f1-score   support\n",
      "\n",
      "           0       0.99      0.92      0.95      6613\n",
      "           1       0.54      0.93      0.68       702\n",
      "\n",
      "    accuracy                           0.92      7315\n",
      "   macro avg       0.77      0.92      0.82      7315\n",
      "weighted avg       0.95      0.92      0.93      7315\n",
      "\n",
      "\n",
      " AUC score : 0.9436884656527783\n",
      "\n",
      "#2 교차 검증 정확도 : 0.9169, 학습 데이터 크기 : 29260, 검증 데이터 크기 : 7315\n",
      "Restoring model weights from the end of the best epoch.\n",
      "Epoch 00029: early stopping\n"
     ]
    },
    {
     "name": "stderr",
     "output_type": "stream",
     "text": [
      "C:\\Users\\dladu\\AppData\\Roaming\\Python\\Python38\\site-packages\\tensorflow\\python\\keras\\engine\\sequential.py:455: UserWarning: `model.predict_classes()` is deprecated and will be removed after 2021-01-01. Please use instead:* `np.argmax(model.predict(x), axis=-1)`,   if your model does multi-class classification   (e.g. if it uses a `softmax` last-layer activation).* `(model.predict(x) > 0.5).astype(\"int32\")`,   if your model does binary classification   (e.g. if it uses a `sigmoid` last-layer activation).\n",
      "  warnings.warn('`model.predict_classes()` is deprecated and '\n"
     ]
    },
    {
     "name": "stdout",
     "output_type": "stream",
     "text": [
      "0.9137\n"
     ]
    },
    {
     "name": "stderr",
     "output_type": "stream",
     "text": [
      "C:\\Users\\dladu\\AppData\\Roaming\\Python\\Python38\\site-packages\\tensorflow\\python\\keras\\engine\\sequential.py:430: UserWarning: `model.predict_proba()` is deprecated and will be removed after 2021-01-01. Please use `model.predict()` instead.\n",
      "  warnings.warn('`model.predict_proba()` is deprecated and '\n"
     ]
    },
    {
     "name": "stdout",
     "output_type": "stream",
     "text": [
      "[[ 658   44]\n",
      " [ 587 6026]]\n",
      "              precision    recall  f1-score   support\n",
      "\n",
      "           0       0.99      0.91      0.95      6613\n",
      "           1       0.53      0.94      0.68       702\n",
      "\n",
      "    accuracy                           0.91      7315\n",
      "   macro avg       0.76      0.92      0.81      7315\n",
      "weighted avg       0.95      0.91      0.92      7315\n",
      "\n",
      "\n",
      " AUC score : 0.9398908004306462\n",
      "\n",
      "#3 교차 검증 정확도 : 0.9137, 학습 데이터 크기 : 29260, 검증 데이터 크기 : 7315\n",
      "Restoring model weights from the end of the best epoch.\n",
      "Epoch 00030: early stopping\n"
     ]
    },
    {
     "name": "stderr",
     "output_type": "stream",
     "text": [
      "C:\\Users\\dladu\\AppData\\Roaming\\Python\\Python38\\site-packages\\tensorflow\\python\\keras\\engine\\sequential.py:455: UserWarning: `model.predict_classes()` is deprecated and will be removed after 2021-01-01. Please use instead:* `np.argmax(model.predict(x), axis=-1)`,   if your model does multi-class classification   (e.g. if it uses a `softmax` last-layer activation).* `(model.predict(x) > 0.5).astype(\"int32\")`,   if your model does binary classification   (e.g. if it uses a `sigmoid` last-layer activation).\n",
      "  warnings.warn('`model.predict_classes()` is deprecated and '\n"
     ]
    },
    {
     "name": "stdout",
     "output_type": "stream",
     "text": [
      "0.909\n"
     ]
    },
    {
     "name": "stderr",
     "output_type": "stream",
     "text": [
      "C:\\Users\\dladu\\AppData\\Roaming\\Python\\Python38\\site-packages\\tensorflow\\python\\keras\\engine\\sequential.py:430: UserWarning: `model.predict_proba()` is deprecated and will be removed after 2021-01-01. Please use `model.predict()` instead.\n",
      "  warnings.warn('`model.predict_proba()` is deprecated and '\n"
     ]
    },
    {
     "name": "stdout",
     "output_type": "stream",
     "text": [
      "[[ 657   46]\n",
      " [ 620 5992]]\n",
      "              precision    recall  f1-score   support\n",
      "\n",
      "           0       0.99      0.91      0.95      6612\n",
      "           1       0.51      0.93      0.66       703\n",
      "\n",
      "    accuracy                           0.91      7315\n",
      "   macro avg       0.75      0.92      0.81      7315\n",
      "weighted avg       0.95      0.91      0.92      7315\n",
      "\n",
      "\n",
      " AUC score : 0.9370019078205152\n",
      "\n",
      "#4 교차 검증 정확도 : 0.909, 학습 데이터 크기 : 29260, 검증 데이터 크기 : 7315\n",
      "Restoring model weights from the end of the best epoch.\n",
      "Epoch 00023: early stopping\n"
     ]
    },
    {
     "name": "stderr",
     "output_type": "stream",
     "text": [
      "C:\\Users\\dladu\\AppData\\Roaming\\Python\\Python38\\site-packages\\tensorflow\\python\\keras\\engine\\sequential.py:455: UserWarning: `model.predict_classes()` is deprecated and will be removed after 2021-01-01. Please use instead:* `np.argmax(model.predict(x), axis=-1)`,   if your model does multi-class classification   (e.g. if it uses a `softmax` last-layer activation).* `(model.predict(x) > 0.5).astype(\"int32\")`,   if your model does binary classification   (e.g. if it uses a `sigmoid` last-layer activation).\n",
      "  warnings.warn('`model.predict_classes()` is deprecated and '\n"
     ]
    },
    {
     "name": "stdout",
     "output_type": "stream",
     "text": [
      "0.9117\n"
     ]
    },
    {
     "name": "stderr",
     "output_type": "stream",
     "text": [
      "C:\\Users\\dladu\\AppData\\Roaming\\Python\\Python38\\site-packages\\tensorflow\\python\\keras\\engine\\sequential.py:430: UserWarning: `model.predict_proba()` is deprecated and will be removed after 2021-01-01. Please use `model.predict()` instead.\n",
      "  warnings.warn('`model.predict_proba()` is deprecated and '\n"
     ]
    },
    {
     "name": "stdout",
     "output_type": "stream",
     "text": [
      "[[ 657   46]\n",
      " [ 600 6012]]\n",
      "              precision    recall  f1-score   support\n",
      "\n",
      "           0       0.99      0.91      0.95      6612\n",
      "           1       0.52      0.93      0.67       703\n",
      "\n",
      "    accuracy                           0.91      7315\n",
      "   macro avg       0.76      0.92      0.81      7315\n",
      "weighted avg       0.95      0.91      0.92      7315\n",
      "\n",
      "\n",
      " AUC score : 0.9376753891153549\n",
      "\n",
      "#5 교차 검증 정확도 : 0.9117, 학습 데이터 크기 : 29260, 검증 데이터 크기 : 7315\n",
      "Restoring model weights from the end of the best epoch.\n",
      "Epoch 00021: early stopping\n"
     ]
    },
    {
     "name": "stderr",
     "output_type": "stream",
     "text": [
      "C:\\Users\\dladu\\AppData\\Roaming\\Python\\Python38\\site-packages\\tensorflow\\python\\keras\\engine\\sequential.py:455: UserWarning: `model.predict_classes()` is deprecated and will be removed after 2021-01-01. Please use instead:* `np.argmax(model.predict(x), axis=-1)`,   if your model does multi-class classification   (e.g. if it uses a `softmax` last-layer activation).* `(model.predict(x) > 0.5).astype(\"int32\")`,   if your model does binary classification   (e.g. if it uses a `sigmoid` last-layer activation).\n",
      "  warnings.warn('`model.predict_classes()` is deprecated and '\n"
     ]
    },
    {
     "name": "stdout",
     "output_type": "stream",
     "text": [
      "0.9109\n"
     ]
    },
    {
     "name": "stderr",
     "output_type": "stream",
     "text": [
      "C:\\Users\\dladu\\AppData\\Roaming\\Python\\Python38\\site-packages\\tensorflow\\python\\keras\\engine\\sequential.py:430: UserWarning: `model.predict_proba()` is deprecated and will be removed after 2021-01-01. Please use `model.predict()` instead.\n",
      "  warnings.warn('`model.predict_proba()` is deprecated and '\n"
     ]
    },
    {
     "name": "stdout",
     "output_type": "stream",
     "text": [
      "[[ 657   46]\n",
      " [ 606 6006]]\n",
      "              precision    recall  f1-score   support\n",
      "\n",
      "           0       0.99      0.91      0.95      6612\n",
      "           1       0.52      0.93      0.67       703\n",
      "\n",
      "    accuracy                           0.91      7315\n",
      "   macro avg       0.76      0.92      0.81      7315\n",
      "weighted avg       0.95      0.91      0.92      7315\n",
      "\n",
      "\n",
      " AUC score : 0.9382680870764737\n",
      "\n",
      "#6 교차 검증 정확도 : 0.9109, 학습 데이터 크기 : 29260, 검증 데이터 크기 : 7315\n"
     ]
    }
   ],
   "source": [
    "for train, test in kfold.split(pre_df,y):\n",
    "    cnt_iter+=1\n",
    "    \n",
    "    X_train, X_test = pre_df[train], pre_df[test]\n",
    "    y_train, y_test = y[train], y[test]\n",
    "    #y_train1, y_test1 = y[train], y[test]\n",
    "\n",
    "    model.fit(X_train,y_train,epochs=100,batch_size=128,verbose=0,callbacks=[early_stopping])#,validation_split=0.2,class_weight=class_dict)\n",
    "    pred = model.predict_classes(X_test)\n",
    "\n",
    "    acc = np.round(accuracy_score(y_test,pred),4)\n",
    "    print(acc)\n",
    "    \n",
    "    train_size = X_train.shape[0]\n",
    "    test_size = X_test.shape[0]\n",
    "    \n",
    "\n",
    "    fpr, tpr, thresholds = metrics.roc_curve(y_test, model.predict_proba(X_test)) #곡선 그리기\n",
    "\n",
    "    score = metrics.auc(fpr, tpr) #면적 구하기\n",
    "    AUC.append(score)\n",
    "    print(confusion_matrix(y_test,pred,labels=[1,0]))\n",
    "    print(classification_report(y_test,pred))\n",
    "    print('\\n AUC score : {0}'.format(score))\n",
    "    print('\\n#{0} 교차 검증 정확도 : {1}, 학습 데이터 크기 : {2}, 검증 데이터 크기 : {3}'.format(cnt_iter,acc,train_size,test_size))\n",
    "    cv_accuracy.append(acc)"
   ]
  },
  {
   "cell_type": "code",
   "execution_count": 20,
   "id": "a633a847",
   "metadata": {},
   "outputs": [
    {
     "name": "stdout",
     "output_type": "stream",
     "text": [
      "0.9124399999999999\n"
     ]
    }
   ],
   "source": [
    "# 평균 AUC\n",
    "\n",
    "print(sum(cv_accuracy)/5)"
   ]
  },
  {
   "cell_type": "markdown",
   "id": "5e185004",
   "metadata": {},
   "source": [
    "* StratifiedKFold을 사용함으로써 불균형 데이터를 균등하게 나눠 교차 검증 가능\n",
    "\n",
    "* 기존에 사용했던 class_weight를 통한 레이블에 부여하는 가중치를 없애고 교차검증 실시"
   ]
  },
  {
   "cell_type": "code",
   "execution_count": null,
   "id": "1a1c89bb",
   "metadata": {},
   "outputs": [],
   "source": []
  }
 ],
 "metadata": {
  "kernelspec": {
   "display_name": "Python 3",
   "language": "python",
   "name": "python3"
  },
  "language_info": {
   "codemirror_mode": {
    "name": "ipython",
    "version": 3
   },
   "file_extension": ".py",
   "mimetype": "text/x-python",
   "name": "python",
   "nbconvert_exporter": "python",
   "pygments_lexer": "ipython3",
   "version": "3.8.8"
  }
 },
 "nbformat": 4,
 "nbformat_minor": 5
}
