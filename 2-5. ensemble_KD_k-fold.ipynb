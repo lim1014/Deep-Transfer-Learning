{
 "cells": [
  {
   "cell_type": "code",
   "execution_count": 1,
   "id": "54fde587",
   "metadata": {},
   "outputs": [],
   "source": [
    "import pandas as pd\n",
    "import numpy as np\n",
    "from collections import Counter\n",
    "from sklearn.metrics import confusion_matrix,classification_report\n",
    "import tensorflow as tf\n",
    "import joblib\n",
    "%matplotlib inline\n",
    "\n",
    "np.random.seed(3)\n",
    "tf.random.set_seed(3)"
   ]
  },
  {
   "cell_type": "code",
   "execution_count": 2,
   "id": "0d696341",
   "metadata": {},
   "outputs": [],
   "source": [
    "pre = pd.read_csv('kd_data_1226.csv')\n",
    "\n",
    "pre_df = pd.DataFrame(pre)\n",
    "\n",
    "pre_df\n",
    "\n",
    "p_list = pre_df['person_id']"
   ]
  },
  {
   "cell_type": "markdown",
   "id": "2808278e",
   "metadata": {},
   "source": [
    "## class_weight"
   ]
  },
  {
   "cell_type": "code",
   "execution_count": 3,
   "id": "0d6107ce",
   "metadata": {},
   "outputs": [],
   "source": [
    "from sklearn.utils import class_weight"
   ]
  },
  {
   "cell_type": "markdown",
   "id": "30002c00",
   "metadata": {},
   "source": [
    "## Split"
   ]
  },
  {
   "cell_type": "code",
   "execution_count": 4,
   "id": "8099f230",
   "metadata": {},
   "outputs": [],
   "source": [
    "from sklearn.model_selection import train_test_split"
   ]
  },
  {
   "cell_type": "markdown",
   "id": "aaa8b309",
   "metadata": {},
   "source": [
    "## Stacking Ensemble"
   ]
  },
  {
   "cell_type": "code",
   "execution_count": 5,
   "id": "f25d0fb5",
   "metadata": {},
   "outputs": [],
   "source": [
    "from sklearn import metrics"
   ]
  },
  {
   "cell_type": "code",
   "execution_count": 6,
   "id": "fce81abf",
   "metadata": {},
   "outputs": [],
   "source": [
    "from tensorflow.keras.layers import Input,Dense,SimpleRNN, Dropout\n",
    "from tensorflow.keras.models import Model\n",
    "from tensorflow.keras.models import Sequential\n",
    "from tensorflow.keras.regularizers import L1, L2,L1L2\n",
    "from tensorflow.keras.wrappers.scikit_learn import KerasClassifier\n",
    "from sklearn.model_selection import KFold\n",
    "from tensorflow.keras.optimizers import Adam, RMSprop"
   ]
  },
  {
   "cell_type": "code",
   "execution_count": 7,
   "id": "e4d266b1",
   "metadata": {},
   "outputs": [],
   "source": [
    "METRICS = [ \n",
    "      tf.keras.metrics.TruePositives(name='tp'),\n",
    "      tf.keras.metrics.FalsePositives(name='fp'),\n",
    "      tf.keras.metrics.TrueNegatives(name='tn'),\n",
    "      tf.keras.metrics.FalseNegatives(name='fn'), \n",
    "      tf.keras.metrics.BinaryAccuracy(name='accuracy'),\n",
    "      tf.keras.metrics.Precision(name='precision'),\n",
    "      tf.keras.metrics.Recall(name='recall'),\n",
    "      tf.keras.metrics.AUC(name='auc'),\n",
    "      tf.keras.metrics.AUC(name='prc', curve='PR'), # precision-recall curve\n",
    "]"
   ]
  },
  {
   "cell_type": "code",
   "execution_count": 8,
   "id": "8e20f518",
   "metadata": {},
   "outputs": [],
   "source": [
    "early_stopping = tf.keras.callbacks.EarlyStopping(\n",
    "    monitor='auc', \n",
    "    verbose=1,\n",
    "    patience=10,\n",
    "    mode='max',\n",
    "    restore_best_weights=True)"
   ]
  },
  {
   "cell_type": "code",
   "execution_count": 9,
   "id": "c368c629",
   "metadata": {},
   "outputs": [],
   "source": [
    "from sklearn.metrics import roc_curve, auc, roc_auc_score  # ROC곡선 그리기\n",
    "\n",
    "from sklearn.model_selection import learning_curve, validation_curve # 학습곡선, 검증곡선\n",
    "from sklearn.model_selection import  cross_val_score, cross_val_predict  # 하이퍼파라미터 튜닝, 교차타당도"
   ]
  },
  {
   "cell_type": "markdown",
   "id": "ce78c905",
   "metadata": {},
   "source": [
    "## Application - KD"
   ]
  },
  {
   "cell_type": "code",
   "execution_count": 10,
   "id": "3f801fc1",
   "metadata": {},
   "outputs": [],
   "source": [
    "from tensorflow.keras.optimizers import RMSprop,Adam"
   ]
  },
  {
   "cell_type": "code",
   "execution_count": 11,
   "id": "708a39b5",
   "metadata": {},
   "outputs": [],
   "source": [
    "pre_df.columns = ['person_id', 'gender', 'age_1', 'age_2', 'age_3', 'age_4', 'age_5',\n",
    "       'age_6', 'age_7', 'age_8', 'smoking_status_0.0', 'smoking_status_1.0',\n",
    "       'smoking_status_2.0', 'smoking_status_3.0', 'bmi_1.0', 'bmi_2.0', 'bmi_3.0',\n",
    "       'bmi_4.0', 'Malignant_neoplastic_disease', 'Chronic_liver_disease',\n",
    "       'chronic_obstructive_lung_disease', 'cerebrovascular_disease',\n",
    "       'chronic_kidney_disease', 'Diabetes_mellitus', 'Ischemic_heart_disease',\n",
    "       'hyperlipidemia', 'Hypertensive_disorder', 'cancer'] \n",
    "\n",
    "pre_df = pre_df.astype('int64')"
   ]
  },
  {
   "cell_type": "code",
   "execution_count": 12,
   "id": "a6e9bc66",
   "metadata": {},
   "outputs": [],
   "source": [
    "def df_to_dataset(dataframe, shuffle=True, batch_size=32):\n",
    "    dataframe = dataframe.copy()\n",
    "    labels = dataframe.pop('cancer')\n",
    "    ds = tf.data.Dataset.from_tensor_slices((dict(dataframe), labels))\n",
    "    if shuffle:\n",
    "        ds = ds.shuffle(buffer_size=len(dataframe))\n",
    "    ds = ds.batch(batch_size)\n",
    "\n",
    "    return ds\n",
    "\n",
    "# layer와 feature를 나누고 섞고(shuffle), batch_size로 생성하는 과정"
   ]
  },
  {
   "cell_type": "code",
   "execution_count": 13,
   "id": "5c5da02e",
   "metadata": {},
   "outputs": [],
   "source": [
    "train, test = train_test_split(pre_df, test_size=0.3, random_state=3)\n",
    "train_ds= df_to_dataset(train, batch_size=len(train),shuffle=False)\n",
    "test_ds= df_to_dataset(test, batch_size=len(test),shuffle=False)"
   ]
  },
  {
   "cell_type": "code",
   "execution_count": 14,
   "id": "aeaac296",
   "metadata": {},
   "outputs": [],
   "source": [
    "all_ds = df_to_dataset(pre_df, batch_size=len(pre_df),shuffle=False)"
   ]
  },
  {
   "cell_type": "code",
   "execution_count": 15,
   "id": "19a2caed",
   "metadata": {},
   "outputs": [
    {
     "name": "stdout",
     "output_type": "stream",
     "text": [
      "Counter({0: 320, 1: 89})\n"
     ]
    }
   ],
   "source": [
    "print(Counter(pre_df['cancer']))"
   ]
  },
  {
   "cell_type": "code",
   "execution_count": 16,
   "id": "72588b52",
   "metadata": {},
   "outputs": [],
   "source": [
    "from tensorflow.keras.utils import to_categorical"
   ]
  },
  {
   "cell_type": "code",
   "execution_count": 17,
   "id": "0a7031ad",
   "metadata": {},
   "outputs": [],
   "source": [
    "Y_cate = to_categorical(pre_df['cancer'])\n",
    "X_data = pre_df.iloc[:,1:27]"
   ]
  },
  {
   "cell_type": "code",
   "execution_count": 18,
   "id": "e7201813",
   "metadata": {},
   "outputs": [
    {
     "data": {
      "text/html": [
       "<div>\n",
       "<style scoped>\n",
       "    .dataframe tbody tr th:only-of-type {\n",
       "        vertical-align: middle;\n",
       "    }\n",
       "\n",
       "    .dataframe tbody tr th {\n",
       "        vertical-align: top;\n",
       "    }\n",
       "\n",
       "    .dataframe thead th {\n",
       "        text-align: right;\n",
       "    }\n",
       "</style>\n",
       "<table border=\"1\" class=\"dataframe\">\n",
       "  <thead>\n",
       "    <tr style=\"text-align: right;\">\n",
       "      <th></th>\n",
       "      <th>gender</th>\n",
       "      <th>age_1</th>\n",
       "      <th>age_2</th>\n",
       "      <th>age_3</th>\n",
       "      <th>age_4</th>\n",
       "      <th>age_5</th>\n",
       "      <th>age_6</th>\n",
       "      <th>age_7</th>\n",
       "      <th>age_8</th>\n",
       "      <th>smoking_status_0.0</th>\n",
       "      <th>...</th>\n",
       "      <th>bmi_4.0</th>\n",
       "      <th>Malignant_neoplastic_disease</th>\n",
       "      <th>Chronic_liver_disease</th>\n",
       "      <th>chronic_obstructive_lung_disease</th>\n",
       "      <th>cerebrovascular_disease</th>\n",
       "      <th>chronic_kidney_disease</th>\n",
       "      <th>Diabetes_mellitus</th>\n",
       "      <th>Ischemic_heart_disease</th>\n",
       "      <th>hyperlipidemia</th>\n",
       "      <th>Hypertensive_disorder</th>\n",
       "    </tr>\n",
       "  </thead>\n",
       "  <tbody>\n",
       "    <tr>\n",
       "      <th>0</th>\n",
       "      <td>0</td>\n",
       "      <td>0</td>\n",
       "      <td>0</td>\n",
       "      <td>0</td>\n",
       "      <td>0</td>\n",
       "      <td>1</td>\n",
       "      <td>0</td>\n",
       "      <td>0</td>\n",
       "      <td>0</td>\n",
       "      <td>0</td>\n",
       "      <td>...</td>\n",
       "      <td>1</td>\n",
       "      <td>0</td>\n",
       "      <td>0</td>\n",
       "      <td>0</td>\n",
       "      <td>0</td>\n",
       "      <td>0</td>\n",
       "      <td>0</td>\n",
       "      <td>0</td>\n",
       "      <td>0</td>\n",
       "      <td>0</td>\n",
       "    </tr>\n",
       "    <tr>\n",
       "      <th>1</th>\n",
       "      <td>0</td>\n",
       "      <td>0</td>\n",
       "      <td>0</td>\n",
       "      <td>0</td>\n",
       "      <td>0</td>\n",
       "      <td>0</td>\n",
       "      <td>1</td>\n",
       "      <td>0</td>\n",
       "      <td>0</td>\n",
       "      <td>1</td>\n",
       "      <td>...</td>\n",
       "      <td>0</td>\n",
       "      <td>0</td>\n",
       "      <td>0</td>\n",
       "      <td>0</td>\n",
       "      <td>0</td>\n",
       "      <td>0</td>\n",
       "      <td>0</td>\n",
       "      <td>0</td>\n",
       "      <td>0</td>\n",
       "      <td>0</td>\n",
       "    </tr>\n",
       "    <tr>\n",
       "      <th>2</th>\n",
       "      <td>0</td>\n",
       "      <td>0</td>\n",
       "      <td>0</td>\n",
       "      <td>0</td>\n",
       "      <td>0</td>\n",
       "      <td>0</td>\n",
       "      <td>0</td>\n",
       "      <td>1</td>\n",
       "      <td>0</td>\n",
       "      <td>0</td>\n",
       "      <td>...</td>\n",
       "      <td>0</td>\n",
       "      <td>0</td>\n",
       "      <td>0</td>\n",
       "      <td>0</td>\n",
       "      <td>0</td>\n",
       "      <td>0</td>\n",
       "      <td>0</td>\n",
       "      <td>0</td>\n",
       "      <td>0</td>\n",
       "      <td>0</td>\n",
       "    </tr>\n",
       "    <tr>\n",
       "      <th>3</th>\n",
       "      <td>0</td>\n",
       "      <td>0</td>\n",
       "      <td>0</td>\n",
       "      <td>0</td>\n",
       "      <td>0</td>\n",
       "      <td>0</td>\n",
       "      <td>1</td>\n",
       "      <td>0</td>\n",
       "      <td>0</td>\n",
       "      <td>1</td>\n",
       "      <td>...</td>\n",
       "      <td>0</td>\n",
       "      <td>0</td>\n",
       "      <td>0</td>\n",
       "      <td>0</td>\n",
       "      <td>0</td>\n",
       "      <td>0</td>\n",
       "      <td>0</td>\n",
       "      <td>0</td>\n",
       "      <td>0</td>\n",
       "      <td>0</td>\n",
       "    </tr>\n",
       "    <tr>\n",
       "      <th>4</th>\n",
       "      <td>0</td>\n",
       "      <td>0</td>\n",
       "      <td>0</td>\n",
       "      <td>0</td>\n",
       "      <td>0</td>\n",
       "      <td>1</td>\n",
       "      <td>0</td>\n",
       "      <td>0</td>\n",
       "      <td>0</td>\n",
       "      <td>1</td>\n",
       "      <td>...</td>\n",
       "      <td>0</td>\n",
       "      <td>0</td>\n",
       "      <td>0</td>\n",
       "      <td>0</td>\n",
       "      <td>0</td>\n",
       "      <td>0</td>\n",
       "      <td>0</td>\n",
       "      <td>0</td>\n",
       "      <td>0</td>\n",
       "      <td>0</td>\n",
       "    </tr>\n",
       "    <tr>\n",
       "      <th>...</th>\n",
       "      <td>...</td>\n",
       "      <td>...</td>\n",
       "      <td>...</td>\n",
       "      <td>...</td>\n",
       "      <td>...</td>\n",
       "      <td>...</td>\n",
       "      <td>...</td>\n",
       "      <td>...</td>\n",
       "      <td>...</td>\n",
       "      <td>...</td>\n",
       "      <td>...</td>\n",
       "      <td>...</td>\n",
       "      <td>...</td>\n",
       "      <td>...</td>\n",
       "      <td>...</td>\n",
       "      <td>...</td>\n",
       "      <td>...</td>\n",
       "      <td>...</td>\n",
       "      <td>...</td>\n",
       "      <td>...</td>\n",
       "      <td>...</td>\n",
       "    </tr>\n",
       "    <tr>\n",
       "      <th>404</th>\n",
       "      <td>0</td>\n",
       "      <td>0</td>\n",
       "      <td>0</td>\n",
       "      <td>1</td>\n",
       "      <td>0</td>\n",
       "      <td>0</td>\n",
       "      <td>0</td>\n",
       "      <td>0</td>\n",
       "      <td>0</td>\n",
       "      <td>0</td>\n",
       "      <td>...</td>\n",
       "      <td>0</td>\n",
       "      <td>0</td>\n",
       "      <td>0</td>\n",
       "      <td>0</td>\n",
       "      <td>0</td>\n",
       "      <td>0</td>\n",
       "      <td>0</td>\n",
       "      <td>0</td>\n",
       "      <td>0</td>\n",
       "      <td>0</td>\n",
       "    </tr>\n",
       "    <tr>\n",
       "      <th>405</th>\n",
       "      <td>1</td>\n",
       "      <td>0</td>\n",
       "      <td>0</td>\n",
       "      <td>0</td>\n",
       "      <td>1</td>\n",
       "      <td>0</td>\n",
       "      <td>0</td>\n",
       "      <td>0</td>\n",
       "      <td>0</td>\n",
       "      <td>0</td>\n",
       "      <td>...</td>\n",
       "      <td>0</td>\n",
       "      <td>0</td>\n",
       "      <td>0</td>\n",
       "      <td>0</td>\n",
       "      <td>0</td>\n",
       "      <td>0</td>\n",
       "      <td>0</td>\n",
       "      <td>0</td>\n",
       "      <td>0</td>\n",
       "      <td>0</td>\n",
       "    </tr>\n",
       "    <tr>\n",
       "      <th>406</th>\n",
       "      <td>1</td>\n",
       "      <td>0</td>\n",
       "      <td>0</td>\n",
       "      <td>0</td>\n",
       "      <td>1</td>\n",
       "      <td>0</td>\n",
       "      <td>0</td>\n",
       "      <td>0</td>\n",
       "      <td>0</td>\n",
       "      <td>1</td>\n",
       "      <td>...</td>\n",
       "      <td>0</td>\n",
       "      <td>0</td>\n",
       "      <td>0</td>\n",
       "      <td>0</td>\n",
       "      <td>0</td>\n",
       "      <td>0</td>\n",
       "      <td>0</td>\n",
       "      <td>0</td>\n",
       "      <td>0</td>\n",
       "      <td>0</td>\n",
       "    </tr>\n",
       "    <tr>\n",
       "      <th>407</th>\n",
       "      <td>1</td>\n",
       "      <td>0</td>\n",
       "      <td>1</td>\n",
       "      <td>0</td>\n",
       "      <td>0</td>\n",
       "      <td>0</td>\n",
       "      <td>0</td>\n",
       "      <td>0</td>\n",
       "      <td>0</td>\n",
       "      <td>1</td>\n",
       "      <td>...</td>\n",
       "      <td>0</td>\n",
       "      <td>0</td>\n",
       "      <td>0</td>\n",
       "      <td>0</td>\n",
       "      <td>0</td>\n",
       "      <td>0</td>\n",
       "      <td>0</td>\n",
       "      <td>0</td>\n",
       "      <td>0</td>\n",
       "      <td>0</td>\n",
       "    </tr>\n",
       "    <tr>\n",
       "      <th>408</th>\n",
       "      <td>0</td>\n",
       "      <td>0</td>\n",
       "      <td>0</td>\n",
       "      <td>0</td>\n",
       "      <td>1</td>\n",
       "      <td>0</td>\n",
       "      <td>0</td>\n",
       "      <td>0</td>\n",
       "      <td>0</td>\n",
       "      <td>0</td>\n",
       "      <td>...</td>\n",
       "      <td>0</td>\n",
       "      <td>0</td>\n",
       "      <td>0</td>\n",
       "      <td>0</td>\n",
       "      <td>0</td>\n",
       "      <td>0</td>\n",
       "      <td>0</td>\n",
       "      <td>0</td>\n",
       "      <td>0</td>\n",
       "      <td>0</td>\n",
       "    </tr>\n",
       "  </tbody>\n",
       "</table>\n",
       "<p>409 rows × 26 columns</p>\n",
       "</div>"
      ],
      "text/plain": [
       "     gender  age_1  age_2  age_3  age_4  age_5  age_6  age_7  age_8  \\\n",
       "0         0      0      0      0      0      1      0      0      0   \n",
       "1         0      0      0      0      0      0      1      0      0   \n",
       "2         0      0      0      0      0      0      0      1      0   \n",
       "3         0      0      0      0      0      0      1      0      0   \n",
       "4         0      0      0      0      0      1      0      0      0   \n",
       "..      ...    ...    ...    ...    ...    ...    ...    ...    ...   \n",
       "404       0      0      0      1      0      0      0      0      0   \n",
       "405       1      0      0      0      1      0      0      0      0   \n",
       "406       1      0      0      0      1      0      0      0      0   \n",
       "407       1      0      1      0      0      0      0      0      0   \n",
       "408       0      0      0      0      1      0      0      0      0   \n",
       "\n",
       "     smoking_status_0.0  ...  bmi_4.0  Malignant_neoplastic_disease  \\\n",
       "0                     0  ...        1                             0   \n",
       "1                     1  ...        0                             0   \n",
       "2                     0  ...        0                             0   \n",
       "3                     1  ...        0                             0   \n",
       "4                     1  ...        0                             0   \n",
       "..                  ...  ...      ...                           ...   \n",
       "404                   0  ...        0                             0   \n",
       "405                   0  ...        0                             0   \n",
       "406                   1  ...        0                             0   \n",
       "407                   1  ...        0                             0   \n",
       "408                   0  ...        0                             0   \n",
       "\n",
       "     Chronic_liver_disease  chronic_obstructive_lung_disease  \\\n",
       "0                        0                                 0   \n",
       "1                        0                                 0   \n",
       "2                        0                                 0   \n",
       "3                        0                                 0   \n",
       "4                        0                                 0   \n",
       "..                     ...                               ...   \n",
       "404                      0                                 0   \n",
       "405                      0                                 0   \n",
       "406                      0                                 0   \n",
       "407                      0                                 0   \n",
       "408                      0                                 0   \n",
       "\n",
       "     cerebrovascular_disease  chronic_kidney_disease  Diabetes_mellitus  \\\n",
       "0                          0                       0                  0   \n",
       "1                          0                       0                  0   \n",
       "2                          0                       0                  0   \n",
       "3                          0                       0                  0   \n",
       "4                          0                       0                  0   \n",
       "..                       ...                     ...                ...   \n",
       "404                        0                       0                  0   \n",
       "405                        0                       0                  0   \n",
       "406                        0                       0                  0   \n",
       "407                        0                       0                  0   \n",
       "408                        0                       0                  0   \n",
       "\n",
       "     Ischemic_heart_disease  hyperlipidemia  Hypertensive_disorder  \n",
       "0                         0               0                      0  \n",
       "1                         0               0                      0  \n",
       "2                         0               0                      0  \n",
       "3                         0               0                      0  \n",
       "4                         0               0                      0  \n",
       "..                      ...             ...                    ...  \n",
       "404                       0               0                      0  \n",
       "405                       0               0                      0  \n",
       "406                       0               0                      0  \n",
       "407                       0               0                      0  \n",
       "408                       0               0                      0  \n",
       "\n",
       "[409 rows x 26 columns]"
      ]
     },
     "execution_count": 18,
     "metadata": {},
     "output_type": "execute_result"
    }
   ],
   "source": [
    "X_data"
   ]
  },
  {
   "cell_type": "code",
   "execution_count": 19,
   "id": "5157701f",
   "metadata": {},
   "outputs": [],
   "source": [
    "X_train, X_test, Y_train, Y_test = train_test_split(X_data,Y_cate, test_size=0.3, random_state=3)"
   ]
  },
  {
   "cell_type": "code",
   "execution_count": 20,
   "id": "c0aa6312",
   "metadata": {},
   "outputs": [],
   "source": [
    "training, testing = train_test_split(pre_df['cancer'], test_size=0.3, random_state=3)"
   ]
  },
  {
   "cell_type": "code",
   "execution_count": 21,
   "id": "10d8bd6f",
   "metadata": {},
   "outputs": [
    {
     "name": "stderr",
     "output_type": "stream",
     "text": [
      "C:\\ProgramData\\Anaconda32\\lib\\site-packages\\sklearn\\utils\\validation.py:70: FutureWarning: Pass classes=[0 1], y=0      1\n",
      "1      1\n",
      "2      1\n",
      "3      1\n",
      "4      1\n",
      "      ..\n",
      "404    0\n",
      "405    0\n",
      "406    0\n",
      "407    0\n",
      "408    0\n",
      "Name: cancer, Length: 409, dtype: int64 as keyword args. From version 1.0 (renaming of 0.25) passing these as positional arguments will result in an error\n",
      "  warnings.warn(f\"Pass {args_msg} as keyword args. From version \"\n"
     ]
    },
    {
     "data": {
      "text/plain": [
       "array([0.6390625 , 2.29775281])"
      ]
     },
     "execution_count": 21,
     "metadata": {},
     "output_type": "execute_result"
    }
   ],
   "source": [
    "# test\n",
    "\n",
    "from sklearn.utils import class_weight\n",
    "\n",
    "class_weights = class_weight.compute_class_weight('balanced',np.unique(pre_df['cancer']),pre_df['cancer'])\n",
    "\n",
    "class_weights "
   ]
  },
  {
   "cell_type": "code",
   "execution_count": 22,
   "id": "41f3ecc7",
   "metadata": {},
   "outputs": [],
   "source": [
    "from sklearn.svm import SVC\n",
    "from sklearn.ensemble import RandomForestClassifier"
   ]
  },
  {
   "cell_type": "code",
   "execution_count": 23,
   "id": "0964187c",
   "metadata": {},
   "outputs": [
    {
     "name": "stdout",
     "output_type": "stream",
     "text": [
      "              precision    recall  f1-score   support\n",
      "\n",
      "           0       0.94      0.68      0.79        95\n",
      "           1       0.44      0.86      0.59        28\n",
      "\n",
      "    accuracy                           0.72       123\n",
      "   macro avg       0.69      0.77      0.69       123\n",
      "weighted avg       0.83      0.72      0.75       123\n",
      "\n",
      "0.7477443609022557\n",
      "              precision    recall  f1-score   support\n",
      "\n",
      "           0       0.94      0.66      0.78        95\n",
      "           1       0.43      0.86      0.57        28\n",
      "\n",
      "    accuracy                           0.71       123\n",
      "   macro avg       0.68      0.76      0.67       123\n",
      "weighted avg       0.82      0.71      0.73       123\n",
      "\n",
      "0.875187969924812\n"
     ]
    }
   ],
   "source": [
    "clf_labels = ['SVM','Random Forest']\n",
    "\n",
    "pred = []\n",
    "\n",
    "for label in clf_labels:\n",
    "    model = joblib.load(label+'.pkl') # 저장한 모델 불러오기\n",
    "    model = model.fit(X_train,training)\n",
    "    Y_pred = model.predict(X_test)\n",
    "    Y_pred = [ 1 if x >= 0.5 else 0 for x in Y_pred]\n",
    "    print(classification_report(testing,Y_pred))\n",
    "    fpr, tpr, thresholds =roc_curve(testing, model.predict_proba(X_test)[:,1])\n",
    "    print(auc(fpr, tpr))\n",
    "    real_pred = model.predict(X_data)\n",
    "    real_pred = [ 1 if x >= 0.5 else 0 for x in real_pred]\n",
    "    pred.append(real_pred)"
   ]
  },
  {
   "cell_type": "code",
   "execution_count": 24,
   "id": "878196a0",
   "metadata": {},
   "outputs": [],
   "source": [
    "[(_, train_label)] = train_ds.take(1)\n",
    "[(_, test_label)] = test_ds.take(1)"
   ]
  },
  {
   "cell_type": "code",
   "execution_count": 25,
   "id": "63111288",
   "metadata": {},
   "outputs": [],
   "source": [
    "[(_, all_label)] = all_ds.take(1)"
   ]
  },
  {
   "cell_type": "code",
   "execution_count": 26,
   "id": "ec6f01e8",
   "metadata": {},
   "outputs": [],
   "source": [
    "gbd_model = tf.keras.models.load_model('gbd_0108')"
   ]
  },
  {
   "cell_type": "code",
   "execution_count": 27,
   "id": "3f214cb7",
   "metadata": {},
   "outputs": [],
   "source": [
    "class_weights = {0:class_weights[0], 1:class_weights[1]}"
   ]
  },
  {
   "cell_type": "code",
   "execution_count": 28,
   "id": "8121f850",
   "metadata": {},
   "outputs": [],
   "source": [
    "gbd_model.compile(optimizer=Adam(learning_rate=0.005),\n",
    "              loss=tf.keras.losses.BinaryCrossentropy(from_logits=True),\n",
    "              metrics=METRICS) # 기존 건보단 모델에서 optimizer의 학습률을 조정해 새로 학습"
   ]
  },
  {
   "cell_type": "code",
   "execution_count": 29,
   "id": "19f36ccc",
   "metadata": {},
   "outputs": [
    {
     "name": "stdout",
     "output_type": "stream",
     "text": [
      "WARNING:tensorflow:From C:\\Users\\dladu\\AppData\\Roaming\\Python\\Python38\\site-packages\\tensorflow\\python\\ops\\array_ops.py:5043: calling gather (from tensorflow.python.ops.array_ops) with validate_indices is deprecated and will be removed in a future version.\n",
      "Instructions for updating:\n",
      "The `validate_indices` argument has no effect. Indices are always validated on CPU and never validated on GPU.\n",
      "Epoch 1/100\n"
     ]
    },
    {
     "name": "stderr",
     "output_type": "stream",
     "text": [
      "C:\\Users\\dladu\\AppData\\Roaming\\Python\\Python38\\site-packages\\tensorflow\\python\\keras\\engine\\functional.py:588: UserWarning: Input dict contained keys ['person_id'] which did not match any model input. They will be ignored by the model.\n",
      "  warnings.warn(\n",
      "C:\\Users\\dladu\\AppData\\Roaming\\Python\\Python38\\site-packages\\tensorflow\\python\\keras\\backend.py:5016: UserWarning: \"`binary_crossentropy` received `from_logits=True`, but the `output` argument was produced by a sigmoid or softmax activation and thus does not represent logits. Was this intended?\"\n",
      "  warnings.warn(\n"
     ]
    },
    {
     "name": "stdout",
     "output_type": "stream",
     "text": [
      "1/1 [==============================] - 5s 5s/step - loss: 8.0424 - tp: 34.0000 - fp: 125.0000 - tn: 100.0000 - fn: 27.0000 - accuracy: 0.4685 - precision: 0.2138 - recall: 0.5574 - auc: 0.5051 - prc: 0.2182\n",
      "Epoch 2/100\n",
      "1/1 [==============================] - 0s 12ms/step - loss: 2.5004 - tp: 34.0000 - fp: 123.0000 - tn: 102.0000 - fn: 27.0000 - accuracy: 0.4755 - precision: 0.2166 - recall: 0.5574 - auc: 0.5557 - prc: 0.2662\n",
      "Epoch 3/100\n",
      "1/1 [==============================] - 0s 13ms/step - loss: 0.7309 - tp: 48.0000 - fp: 138.0000 - tn: 87.0000 - fn: 13.0000 - accuracy: 0.4720 - precision: 0.2581 - recall: 0.7869 - auc: 0.6014 - prc: 0.2515\n",
      "Epoch 4/100\n",
      "1/1 [==============================] - 0s 13ms/step - loss: 0.6729 - tp: 41.0000 - fp: 125.0000 - tn: 100.0000 - fn: 20.0000 - accuracy: 0.4930 - precision: 0.2470 - recall: 0.6721 - auc: 0.5992 - prc: 0.2759\n",
      "Epoch 5/100\n",
      "1/1 [==============================] - 0s 14ms/step - loss: 0.6808 - tp: 25.0000 - fp: 81.0000 - tn: 144.0000 - fn: 36.0000 - accuracy: 0.5909 - precision: 0.2358 - recall: 0.4098 - auc: 0.5448 - prc: 0.2163\n",
      "Epoch 6/100\n",
      "1/1 [==============================] - 0s 14ms/step - loss: 0.6811 - tp: 9.0000 - fp: 28.0000 - tn: 197.0000 - fn: 52.0000 - accuracy: 0.7203 - precision: 0.2432 - recall: 0.1475 - auc: 0.6093 - prc: 0.2774\n",
      "Epoch 7/100\n",
      "1/1 [==============================] - 0s 14ms/step - loss: 0.6840 - tp: 11.0000 - fp: 21.0000 - tn: 204.0000 - fn: 50.0000 - accuracy: 0.7517 - precision: 0.3438 - recall: 0.1803 - auc: 0.6057 - prc: 0.2912\n",
      "Epoch 8/100\n",
      "1/1 [==============================] - 0s 15ms/step - loss: 0.6627 - tp: 25.0000 - fp: 49.0000 - tn: 176.0000 - fn: 36.0000 - accuracy: 0.7028 - precision: 0.3378 - recall: 0.4098 - auc: 0.6516 - prc: 0.3190\n",
      "Epoch 9/100\n",
      "1/1 [==============================] - 0s 14ms/step - loss: 0.6592 - tp: 44.0000 - fp: 104.0000 - tn: 121.0000 - fn: 17.0000 - accuracy: 0.5769 - precision: 0.2973 - recall: 0.7213 - auc: 0.6688 - prc: 0.3575\n",
      "Epoch 10/100\n",
      "1/1 [==============================] - 0s 13ms/step - loss: 0.6455 - tp: 55.0000 - fp: 134.0000 - tn: 91.0000 - fn: 6.0000 - accuracy: 0.5105 - precision: 0.2910 - recall: 0.9016 - auc: 0.7288 - prc: 0.4375\n",
      "Epoch 11/100\n",
      "1/1 [==============================] - 0s 12ms/step - loss: 0.6518 - tp: 45.0000 - fp: 119.0000 - tn: 106.0000 - fn: 16.0000 - accuracy: 0.5280 - precision: 0.2744 - recall: 0.7377 - auc: 0.6815 - prc: 0.3450\n",
      "Epoch 12/100\n",
      "1/1 [==============================] - 0s 23ms/step - loss: 0.6375 - tp: 30.0000 - fp: 50.0000 - tn: 175.0000 - fn: 31.0000 - accuracy: 0.7168 - precision: 0.3750 - recall: 0.4918 - auc: 0.6930 - prc: 0.4361\n",
      "Epoch 13/100\n",
      "1/1 [==============================] - 0s 15ms/step - loss: 0.6132 - tp: 22.0000 - fp: 23.0000 - tn: 202.0000 - fn: 39.0000 - accuracy: 0.7832 - precision: 0.4889 - recall: 0.3607 - auc: 0.7905 - prc: 0.5290\n",
      "Epoch 14/100\n",
      "1/1 [==============================] - 0s 11ms/step - loss: 0.6097 - tp: 32.0000 - fp: 31.0000 - tn: 194.0000 - fn: 29.0000 - accuracy: 0.7902 - precision: 0.5079 - recall: 0.5246 - auc: 0.7454 - prc: 0.5069\n",
      "Epoch 15/100\n",
      "1/1 [==============================] - 0s 12ms/step - loss: 0.6048 - tp: 46.0000 - fp: 82.0000 - tn: 143.0000 - fn: 15.0000 - accuracy: 0.6608 - precision: 0.3594 - recall: 0.7541 - auc: 0.7419 - prc: 0.4459\n",
      "Epoch 16/100\n",
      "1/1 [==============================] - 0s 13ms/step - loss: 0.5717 - tp: 47.0000 - fp: 74.0000 - tn: 151.0000 - fn: 14.0000 - accuracy: 0.6923 - precision: 0.3884 - recall: 0.7705 - auc: 0.7848 - prc: 0.5733\n",
      "Epoch 17/100\n",
      "1/1 [==============================] - 0s 16ms/step - loss: 0.5371 - tp: 49.0000 - fp: 61.0000 - tn: 164.0000 - fn: 12.0000 - accuracy: 0.7448 - precision: 0.4455 - recall: 0.8033 - auc: 0.8184 - prc: 0.5918\n",
      "Epoch 18/100\n",
      "1/1 [==============================] - 0s 14ms/step - loss: 0.5424 - tp: 40.0000 - fp: 35.0000 - tn: 190.0000 - fn: 21.0000 - accuracy: 0.8042 - precision: 0.5333 - recall: 0.6557 - auc: 0.8134 - prc: 0.5729\n",
      "Epoch 19/100\n",
      "1/1 [==============================] - 0s 13ms/step - loss: 0.4969 - tp: 47.0000 - fp: 46.0000 - tn: 179.0000 - fn: 14.0000 - accuracy: 0.7902 - precision: 0.5054 - recall: 0.7705 - auc: 0.8464 - prc: 0.5864\n",
      "Epoch 20/100\n",
      "1/1 [==============================] - 0s 14ms/step - loss: 0.5439 - tp: 45.0000 - fp: 68.0000 - tn: 157.0000 - fn: 16.0000 - accuracy: 0.7063 - precision: 0.3982 - recall: 0.7377 - auc: 0.7960 - prc: 0.5580\n",
      "Epoch 21/100\n",
      "1/1 [==============================] - 0s 14ms/step - loss: 0.5393 - tp: 49.0000 - fp: 81.0000 - tn: 144.0000 - fn: 12.0000 - accuracy: 0.6748 - precision: 0.3769 - recall: 0.8033 - auc: 0.8056 - prc: 0.5756\n",
      "Epoch 22/100\n",
      "1/1 [==============================] - 0s 13ms/step - loss: 0.5171 - tp: 41.0000 - fp: 30.0000 - tn: 195.0000 - fn: 20.0000 - accuracy: 0.8252 - precision: 0.5775 - recall: 0.6721 - auc: 0.8274 - prc: 0.5879\n",
      "Epoch 23/100\n",
      "1/1 [==============================] - 0s 13ms/step - loss: 0.4864 - tp: 43.0000 - fp: 41.0000 - tn: 184.0000 - fn: 18.0000 - accuracy: 0.7937 - precision: 0.5119 - recall: 0.7049 - auc: 0.8467 - prc: 0.6205\n",
      "Epoch 24/100\n",
      "1/1 [==============================] - 0s 16ms/step - loss: 0.4984 - tp: 47.0000 - fp: 68.0000 - tn: 157.0000 - fn: 14.0000 - accuracy: 0.7133 - precision: 0.4087 - recall: 0.7705 - auc: 0.8349 - prc: 0.6357\n",
      "Epoch 25/100\n",
      "1/1 [==============================] - 0s 13ms/step - loss: 0.5019 - tp: 54.0000 - fp: 74.0000 - tn: 151.0000 - fn: 7.0000 - accuracy: 0.7168 - precision: 0.4219 - recall: 0.8852 - auc: 0.8403 - prc: 0.6009\n",
      "Epoch 26/100\n",
      "1/1 [==============================] - 0s 14ms/step - loss: 0.4616 - tp: 52.0000 - fp: 62.0000 - tn: 163.0000 - fn: 9.0000 - accuracy: 0.7517 - precision: 0.4561 - recall: 0.8525 - auc: 0.8652 - prc: 0.6634\n",
      "Epoch 27/100\n",
      "1/1 [==============================] - 0s 14ms/step - loss: 0.4630 - tp: 43.0000 - fp: 39.0000 - tn: 186.0000 - fn: 18.0000 - accuracy: 0.8007 - precision: 0.5244 - recall: 0.7049 - auc: 0.8639 - prc: 0.6150\n",
      "Epoch 28/100\n",
      "1/1 [==============================] - 0s 14ms/step - loss: 0.4959 - tp: 39.0000 - fp: 32.0000 - tn: 193.0000 - fn: 22.0000 - accuracy: 0.8112 - precision: 0.5493 - recall: 0.6393 - auc: 0.8495 - prc: 0.6047\n",
      "Epoch 29/100\n",
      "1/1 [==============================] - 0s 15ms/step - loss: 0.4856 - tp: 51.0000 - fp: 66.0000 - tn: 159.0000 - fn: 10.0000 - accuracy: 0.7343 - precision: 0.4359 - recall: 0.8361 - auc: 0.8464 - prc: 0.6439\n",
      "Epoch 30/100\n",
      "1/1 [==============================] - 0s 14ms/step - loss: 0.4583 - tp: 52.0000 - fp: 75.0000 - tn: 150.0000 - fn: 9.0000 - accuracy: 0.7063 - precision: 0.4094 - recall: 0.8525 - auc: 0.8688 - prc: 0.6551\n",
      "Epoch 31/100\n",
      "1/1 [==============================] - 0s 14ms/step - loss: 0.4520 - tp: 55.0000 - fp: 64.0000 - tn: 161.0000 - fn: 6.0000 - accuracy: 0.7552 - precision: 0.4622 - recall: 0.9016 - auc: 0.8696 - prc: 0.6757\n",
      "Epoch 32/100\n",
      "1/1 [==============================] - 0s 13ms/step - loss: 0.4507 - tp: 48.0000 - fp: 43.0000 - tn: 182.0000 - fn: 13.0000 - accuracy: 0.8042 - precision: 0.5275 - recall: 0.7869 - auc: 0.8721 - prc: 0.6780\n",
      "Epoch 33/100\n",
      "1/1 [==============================] - 0s 13ms/step - loss: 0.4616 - tp: 42.0000 - fp: 30.0000 - tn: 195.0000 - fn: 19.0000 - accuracy: 0.8287 - precision: 0.5833 - recall: 0.6885 - auc: 0.8709 - prc: 0.6538\n",
      "Epoch 34/100\n",
      "1/1 [==============================] - 0s 16ms/step - loss: 0.4308 - tp: 49.0000 - fp: 44.0000 - tn: 181.0000 - fn: 12.0000 - accuracy: 0.8042 - precision: 0.5269 - recall: 0.8033 - auc: 0.8799 - prc: 0.6649\n",
      "Epoch 35/100\n",
      "1/1 [==============================] - 0s 13ms/step - loss: 0.4507 - tp: 52.0000 - fp: 61.0000 - tn: 164.0000 - fn: 9.0000 - accuracy: 0.7552 - precision: 0.4602 - recall: 0.8525 - auc: 0.8658 - prc: 0.6161\n",
      "Epoch 36/100\n",
      "1/1 [==============================] - 0s 19ms/step - loss: 0.4499 - tp: 55.0000 - fp: 61.0000 - tn: 164.0000 - fn: 6.0000 - accuracy: 0.7657 - precision: 0.4741 - recall: 0.9016 - auc: 0.8710 - prc: 0.6605\n",
      "Epoch 37/100\n",
      "1/1 [==============================] - 0s 15ms/step - loss: 0.4387 - tp: 53.0000 - fp: 54.0000 - tn: 171.0000 - fn: 8.0000 - accuracy: 0.7832 - precision: 0.4953 - recall: 0.8689 - auc: 0.8770 - prc: 0.6757\n",
      "Epoch 38/100\n"
     ]
    },
    {
     "name": "stdout",
     "output_type": "stream",
     "text": [
      "1/1 [==============================] - 0s 15ms/step - loss: 0.4418 - tp: 49.0000 - fp: 49.0000 - tn: 176.0000 - fn: 12.0000 - accuracy: 0.7867 - precision: 0.5000 - recall: 0.8033 - auc: 0.8711 - prc: 0.6422\n",
      "Epoch 39/100\n",
      "1/1 [==============================] - 0s 17ms/step - loss: 0.4009 - tp: 49.0000 - fp: 38.0000 - tn: 187.0000 - fn: 12.0000 - accuracy: 0.8252 - precision: 0.5632 - recall: 0.8033 - auc: 0.8974 - prc: 0.7155\n",
      "Epoch 40/100\n",
      "1/1 [==============================] - 0s 13ms/step - loss: 0.4553 - tp: 51.0000 - fp: 63.0000 - tn: 162.0000 - fn: 10.0000 - accuracy: 0.7448 - precision: 0.4474 - recall: 0.8361 - auc: 0.8619 - prc: 0.6076\n",
      "Epoch 41/100\n",
      "1/1 [==============================] - 0s 15ms/step - loss: 0.4505 - tp: 51.0000 - fp: 53.0000 - tn: 172.0000 - fn: 10.0000 - accuracy: 0.7797 - precision: 0.4904 - recall: 0.8361 - auc: 0.8669 - prc: 0.6444\n",
      "Epoch 42/100\n",
      "1/1 [==============================] - 0s 13ms/step - loss: 0.4036 - tp: 52.0000 - fp: 49.0000 - tn: 176.0000 - fn: 9.0000 - accuracy: 0.7972 - precision: 0.5149 - recall: 0.8525 - auc: 0.8956 - prc: 0.7197\n",
      "Epoch 43/100\n",
      "1/1 [==============================] - 0s 12ms/step - loss: 0.4075 - tp: 50.0000 - fp: 48.0000 - tn: 177.0000 - fn: 11.0000 - accuracy: 0.7937 - precision: 0.5102 - recall: 0.8197 - auc: 0.8946 - prc: 0.6954\n",
      "Epoch 44/100\n",
      "1/1 [==============================] - 0s 14ms/step - loss: 0.4200 - tp: 49.0000 - fp: 41.0000 - tn: 184.0000 - fn: 12.0000 - accuracy: 0.8147 - precision: 0.5444 - recall: 0.8033 - auc: 0.8857 - prc: 0.6623\n",
      "Epoch 45/100\n",
      "1/1 [==============================] - 0s 14ms/step - loss: 0.4160 - tp: 46.0000 - fp: 31.0000 - tn: 194.0000 - fn: 15.0000 - accuracy: 0.8392 - precision: 0.5974 - recall: 0.7541 - auc: 0.8927 - prc: 0.6968\n",
      "Epoch 46/100\n",
      "1/1 [==============================] - 0s 15ms/step - loss: 0.4067 - tp: 51.0000 - fp: 53.0000 - tn: 172.0000 - fn: 10.0000 - accuracy: 0.7797 - precision: 0.4904 - recall: 0.8361 - auc: 0.8934 - prc: 0.6592\n",
      "Epoch 47/100\n",
      "1/1 [==============================] - 0s 15ms/step - loss: 0.4141 - tp: 52.0000 - fp: 46.0000 - tn: 179.0000 - fn: 9.0000 - accuracy: 0.8077 - precision: 0.5306 - recall: 0.8525 - auc: 0.8913 - prc: 0.7361\n",
      "Epoch 48/100\n",
      "1/1 [==============================] - 0s 13ms/step - loss: 0.4007 - tp: 50.0000 - fp: 51.0000 - tn: 174.0000 - fn: 11.0000 - accuracy: 0.7832 - precision: 0.4950 - recall: 0.8197 - auc: 0.8987 - prc: 0.7251\n",
      "Epoch 49/100\n",
      "1/1 [==============================] - 0s 36ms/step - loss: 0.4059 - tp: 46.0000 - fp: 38.0000 - tn: 187.0000 - fn: 15.0000 - accuracy: 0.8147 - precision: 0.5476 - recall: 0.7541 - auc: 0.8948 - prc: 0.7032\n",
      "Epoch 50/100\n",
      "1/1 [==============================] - 0s 13ms/step - loss: 0.4011 - tp: 49.0000 - fp: 40.0000 - tn: 185.0000 - fn: 12.0000 - accuracy: 0.8182 - precision: 0.5506 - recall: 0.8033 - auc: 0.8958 - prc: 0.6972\n",
      "Epoch 51/100\n",
      "1/1 [==============================] - 0s 15ms/step - loss: 0.3922 - tp: 53.0000 - fp: 46.0000 - tn: 179.0000 - fn: 8.0000 - accuracy: 0.8112 - precision: 0.5354 - recall: 0.8689 - auc: 0.9019 - prc: 0.7107\n",
      "Epoch 52/100\n",
      "1/1 [==============================] - 0s 12ms/step - loss: 0.3852 - tp: 51.0000 - fp: 39.0000 - tn: 186.0000 - fn: 10.0000 - accuracy: 0.8287 - precision: 0.5667 - recall: 0.8361 - auc: 0.9013 - prc: 0.7134\n",
      "Epoch 53/100\n",
      "1/1 [==============================] - 0s 14ms/step - loss: 0.3989 - tp: 51.0000 - fp: 43.0000 - tn: 182.0000 - fn: 10.0000 - accuracy: 0.8147 - precision: 0.5426 - recall: 0.8361 - auc: 0.8991 - prc: 0.7070\n",
      "Epoch 54/100\n",
      "1/1 [==============================] - 0s 17ms/step - loss: 0.3891 - tp: 53.0000 - fp: 47.0000 - tn: 178.0000 - fn: 8.0000 - accuracy: 0.8077 - precision: 0.5300 - recall: 0.8689 - auc: 0.9029 - prc: 0.7115\n",
      "Epoch 55/100\n",
      "1/1 [==============================] - 0s 15ms/step - loss: 0.3903 - tp: 54.0000 - fp: 45.0000 - tn: 180.0000 - fn: 7.0000 - accuracy: 0.8182 - precision: 0.5455 - recall: 0.8852 - auc: 0.9043 - prc: 0.7327\n",
      "Epoch 56/100\n",
      "1/1 [==============================] - 0s 16ms/step - loss: 0.3806 - tp: 48.0000 - fp: 37.0000 - tn: 188.0000 - fn: 13.0000 - accuracy: 0.8252 - precision: 0.5647 - recall: 0.7869 - auc: 0.9036 - prc: 0.6675\n",
      "Epoch 57/100\n",
      "1/1 [==============================] - 0s 13ms/step - loss: 0.3653 - tp: 53.0000 - fp: 41.0000 - tn: 184.0000 - fn: 8.0000 - accuracy: 0.8287 - precision: 0.5638 - recall: 0.8689 - auc: 0.9135 - prc: 0.7297\n",
      "Epoch 58/100\n",
      "1/1 [==============================] - 0s 14ms/step - loss: 0.4226 - tp: 53.0000 - fp: 48.0000 - tn: 177.0000 - fn: 8.0000 - accuracy: 0.8042 - precision: 0.5248 - recall: 0.8689 - auc: 0.8857 - prc: 0.6426\n",
      "Epoch 59/100\n",
      "1/1 [==============================] - 0s 14ms/step - loss: 0.3957 - tp: 52.0000 - fp: 60.0000 - tn: 165.0000 - fn: 9.0000 - accuracy: 0.7587 - precision: 0.4643 - recall: 0.8525 - auc: 0.8998 - prc: 0.7168\n",
      "Epoch 60/100\n",
      "1/1 [==============================] - 0s 13ms/step - loss: 0.3931 - tp: 49.0000 - fp: 44.0000 - tn: 181.0000 - fn: 12.0000 - accuracy: 0.8042 - precision: 0.5269 - recall: 0.8033 - auc: 0.8990 - prc: 0.7269\n",
      "Epoch 61/100\n",
      "1/1 [==============================] - 0s 14ms/step - loss: 0.3952 - tp: 49.0000 - fp: 39.0000 - tn: 186.0000 - fn: 12.0000 - accuracy: 0.8217 - precision: 0.5568 - recall: 0.8033 - auc: 0.9004 - prc: 0.7012\n",
      "Epoch 62/100\n",
      "1/1 [==============================] - 0s 13ms/step - loss: 0.4104 - tp: 45.0000 - fp: 35.0000 - tn: 190.0000 - fn: 16.0000 - accuracy: 0.8217 - precision: 0.5625 - recall: 0.7377 - auc: 0.8934 - prc: 0.7015\n",
      "Epoch 63/100\n",
      "1/1 [==============================] - 0s 14ms/step - loss: 0.3875 - tp: 51.0000 - fp: 47.0000 - tn: 178.0000 - fn: 10.0000 - accuracy: 0.8007 - precision: 0.5204 - recall: 0.8361 - auc: 0.9011 - prc: 0.7355\n",
      "Epoch 64/100\n",
      "1/1 [==============================] - 0s 15ms/step - loss: 0.3964 - tp: 49.0000 - fp: 45.0000 - tn: 180.0000 - fn: 12.0000 - accuracy: 0.8007 - precision: 0.5213 - recall: 0.8033 - auc: 0.8960 - prc: 0.7124\n",
      "Epoch 65/100\n",
      "1/1 [==============================] - 0s 13ms/step - loss: 0.3995 - tp: 56.0000 - fp: 59.0000 - tn: 166.0000 - fn: 5.0000 - accuracy: 0.7762 - precision: 0.4870 - recall: 0.9180 - auc: 0.8939 - prc: 0.7096\n",
      "Epoch 66/100\n",
      "1/1 [==============================] - 0s 15ms/step - loss: 0.4085 - tp: 54.0000 - fp: 61.0000 - tn: 164.0000 - fn: 7.0000 - accuracy: 0.7622 - precision: 0.4696 - recall: 0.8852 - auc: 0.8868 - prc: 0.6738\n",
      "Epoch 67/100\n",
      "1/1 [==============================] - 0s 12ms/step - loss: 0.3966 - tp: 54.0000 - fp: 52.0000 - tn: 173.0000 - fn: 7.0000 - accuracy: 0.7937 - precision: 0.5094 - recall: 0.8852 - auc: 0.9018 - prc: 0.7257\n",
      "Restoring model weights from the end of the best epoch.\n",
      "Epoch 00067: early stopping\n"
     ]
    }
   ],
   "source": [
    "history = gbd_model.fit(train_ds, epochs=100,callbacks=[early_stopping],class_weight = class_weights)"
   ]
  },
  {
   "cell_type": "code",
   "execution_count": 30,
   "id": "bb4890d2",
   "metadata": {},
   "outputs": [
    {
     "name": "stdout",
     "output_type": "stream",
     "text": [
      "[[25  3]\n",
      " [25 70]]\n",
      "              precision    recall  f1-score   support\n",
      "\n",
      "           0       0.96      0.74      0.83        95\n",
      "           1       0.50      0.89      0.64        28\n",
      "\n",
      "    accuracy                           0.77       123\n",
      "   macro avg       0.73      0.81      0.74       123\n",
      "weighted avg       0.85      0.77      0.79       123\n",
      "\n"
     ]
    },
    {
     "name": "stderr",
     "output_type": "stream",
     "text": [
      "C:\\Users\\dladu\\AppData\\Roaming\\Python\\Python38\\site-packages\\tensorflow\\python\\keras\\engine\\functional.py:588: UserWarning: Input dict contained keys ['person_id'] which did not match any model input. They will be ignored by the model.\n",
      "  warnings.warn(\n",
      "C:\\Users\\dladu\\AppData\\Roaming\\Python\\Python38\\site-packages\\tensorflow\\python\\keras\\backend.py:5016: UserWarning: \"`binary_crossentropy` received `from_logits=True`, but the `output` argument was produced by a sigmoid or softmax activation and thus does not represent logits. Was this intended?\"\n",
      "  warnings.warn(\n"
     ]
    },
    {
     "name": "stdout",
     "output_type": "stream",
     "text": [
      "1/1 [==============================] - 3s 3s/step - loss: 0.4239 - tp: 25.0000 - fp: 25.0000 - tn: 70.0000 - fn: 3.0000 - accuracy: 0.7724 - precision: 0.5000 - recall: 0.8929 - auc: 0.8962 - prc: 0.7373\n",
      "loss :  0.42386916279792786\n",
      "tp :  25.0\n",
      "fp :  25.0\n",
      "tn :  70.0\n",
      "fn :  3.0\n",
      "accuracy :  0.772357702255249\n",
      "precision :  0.5\n",
      "recall :  0.8928571343421936\n",
      "auc :  0.8962405920028687\n",
      "prc :  0.737336277961731\n"
     ]
    }
   ],
   "source": [
    "D_pred = gbd_model.predict(test_ds)\n",
    "D_pred = [ 1 if x >= 0.5 else 0 for x in D_pred]\n",
    "\n",
    "print(confusion_matrix(test_label,D_pred,labels=[1,0]))\n",
    "print(classification_report(test_label,D_pred))\n",
    "results = gbd_model.evaluate(test_ds)\n",
    "        \n",
    "for name, value in zip(gbd_model.metrics_names, results):\n",
    "    print(name, ': ', value)\n",
    "       \n",
    "real_pred = gbd_model.predict(all_ds)\n",
    "real_pred = [ 1 if x >= 0.5 else 0 for x in real_pred]\n",
    "pred.append(real_pred)"
   ]
  },
  {
   "cell_type": "code",
   "execution_count": 31,
   "id": "274e31e5",
   "metadata": {},
   "outputs": [
    {
     "name": "stdout",
     "output_type": "stream",
     "text": [
      "(3, 409)\n",
      "(409, 3)\n"
     ]
    }
   ],
   "source": [
    "kd_data = np.array(pred)\n",
    "print(kd_data.shape)\n",
    "\n",
    "kd_data = np.transpose(kd_data)\n",
    "print(kd_data.shape)"
   ]
  },
  {
   "cell_type": "markdown",
   "id": "6ddf4100",
   "metadata": {},
   "source": [
    "## KD Ensemble model 생성 \n",
    "* 교차검증 실시"
   ]
  },
  {
   "cell_type": "code",
   "execution_count": 33,
   "id": "60f591db",
   "metadata": {},
   "outputs": [],
   "source": [
    "from sklearn.model_selection import StratifiedKFold,KFold \n",
    "from sklearn.model_selection import cross_val_score\n",
    "from sklearn.metrics import accuracy_score"
   ]
  },
  {
   "cell_type": "code",
   "execution_count": 34,
   "id": "0570d3cf",
   "metadata": {},
   "outputs": [],
   "source": [
    "kfold = StratifiedKFold(n_splits=5) \n",
    "cnt_iter=0\n",
    "cv_accuracy=[]\n",
    "AUC=[]"
   ]
  },
  {
   "cell_type": "code",
   "execution_count": 36,
   "id": "18873f12",
   "metadata": {},
   "outputs": [],
   "source": [
    "em_y = np.array(pre_df['cancer'])"
   ]
  },
  {
   "cell_type": "code",
   "execution_count": 37,
   "id": "7047e9d2",
   "metadata": {},
   "outputs": [],
   "source": [
    "#, kernel_regularizer=l2(0.02)\n",
    "model = Sequential()\n",
    "model.add(Dense(32,activation=\"relu\",  input_dim=3))\n",
    "model.add(Dropout(0.01))\n",
    "model.add(Dense(16,activation=\"relu\", kernel_regularizer=L2(0.01)))\n",
    "model.add(Dense(10,activation=\"relu\", kernel_regularizer=L2(0.01)))\n",
    "model.add(Dense(1, activation='sigmoid'))\n",
    "    \n",
    "model.compile(optimizer=RMSprop(learning_rate=0.005),loss='binary_crossentropy',metrics=METRICS)"
   ]
  },
  {
   "cell_type": "code",
   "execution_count": 38,
   "id": "ed295849",
   "metadata": {},
   "outputs": [
    {
     "name": "stdout",
     "output_type": "stream",
     "text": [
      "Restoring model weights from the end of the best epoch.\n",
      "Epoch 00020: early stopping\n",
      "0.8902\n",
      "[[15  3]\n",
      " [ 6 58]]\n",
      "              precision    recall  f1-score   support\n",
      "\n",
      "           0       0.95      0.91      0.93        64\n",
      "           1       0.71      0.83      0.77        18\n",
      "\n",
      "    accuracy                           0.89        82\n",
      "   macro avg       0.83      0.87      0.85        82\n",
      "weighted avg       0.90      0.89      0.89        82\n",
      "\n",
      "\n",
      " AUC score : 0.9375\n",
      "\n",
      "#1 교차 검증 정확도 : 0.8902, 학습 데이터 크기 : 327, 검증 데이터 크기 : 82\n"
     ]
    },
    {
     "name": "stderr",
     "output_type": "stream",
     "text": [
      "C:\\Users\\dladu\\AppData\\Roaming\\Python\\Python38\\site-packages\\tensorflow\\python\\keras\\engine\\sequential.py:455: UserWarning: `model.predict_classes()` is deprecated and will be removed after 2021-01-01. Please use instead:* `np.argmax(model.predict(x), axis=-1)`,   if your model does multi-class classification   (e.g. if it uses a `softmax` last-layer activation).* `(model.predict(x) > 0.5).astype(\"int32\")`,   if your model does binary classification   (e.g. if it uses a `sigmoid` last-layer activation).\n",
      "  warnings.warn('`model.predict_classes()` is deprecated and '\n",
      "C:\\Users\\dladu\\AppData\\Roaming\\Python\\Python38\\site-packages\\tensorflow\\python\\keras\\engine\\sequential.py:430: UserWarning: `model.predict_proba()` is deprecated and will be removed after 2021-01-01. Please use `model.predict()` instead.\n",
      "  warnings.warn('`model.predict_proba()` is deprecated and '\n"
     ]
    },
    {
     "name": "stdout",
     "output_type": "stream",
     "text": [
      "Restoring model weights from the end of the best epoch.\n",
      "Epoch 00011: early stopping\n",
      "0.7805\n",
      "[[ 0 18]\n",
      " [ 0 64]]\n",
      "              precision    recall  f1-score   support\n",
      "\n",
      "           0       0.78      1.00      0.88        64\n",
      "           1       0.00      0.00      0.00        18\n",
      "\n",
      "    accuracy                           0.78        82\n",
      "   macro avg       0.39      0.50      0.44        82\n",
      "weighted avg       0.61      0.78      0.68        82\n",
      "\n",
      "\n",
      " AUC score : 0.8051215277777778\n",
      "\n",
      "#2 교차 검증 정확도 : 0.7805, 학습 데이터 크기 : 327, 검증 데이터 크기 : 82\n"
     ]
    },
    {
     "name": "stderr",
     "output_type": "stream",
     "text": [
      "C:\\Users\\dladu\\AppData\\Roaming\\Python\\Python38\\site-packages\\tensorflow\\python\\keras\\engine\\sequential.py:455: UserWarning: `model.predict_classes()` is deprecated and will be removed after 2021-01-01. Please use instead:* `np.argmax(model.predict(x), axis=-1)`,   if your model does multi-class classification   (e.g. if it uses a `softmax` last-layer activation).* `(model.predict(x) > 0.5).astype(\"int32\")`,   if your model does binary classification   (e.g. if it uses a `sigmoid` last-layer activation).\n",
      "  warnings.warn('`model.predict_classes()` is deprecated and '\n",
      "C:\\Users\\dladu\\AppData\\Roaming\\Python\\Python38\\site-packages\\tensorflow\\python\\keras\\engine\\sequential.py:430: UserWarning: `model.predict_proba()` is deprecated and will be removed after 2021-01-01. Please use `model.predict()` instead.\n",
      "  warnings.warn('`model.predict_proba()` is deprecated and '\n",
      "C:\\ProgramData\\Anaconda32\\lib\\site-packages\\sklearn\\metrics\\_classification.py:1245: UndefinedMetricWarning: Precision and F-score are ill-defined and being set to 0.0 in labels with no predicted samples. Use `zero_division` parameter to control this behavior.\n",
      "  _warn_prf(average, modifier, msg_start, len(result))\n",
      "C:\\ProgramData\\Anaconda32\\lib\\site-packages\\sklearn\\metrics\\_classification.py:1245: UndefinedMetricWarning: Precision and F-score are ill-defined and being set to 0.0 in labels with no predicted samples. Use `zero_division` parameter to control this behavior.\n",
      "  _warn_prf(average, modifier, msg_start, len(result))\n",
      "C:\\ProgramData\\Anaconda32\\lib\\site-packages\\sklearn\\metrics\\_classification.py:1245: UndefinedMetricWarning: Precision and F-score are ill-defined and being set to 0.0 in labels with no predicted samples. Use `zero_division` parameter to control this behavior.\n",
      "  _warn_prf(average, modifier, msg_start, len(result))\n"
     ]
    },
    {
     "name": "stdout",
     "output_type": "stream",
     "text": [
      "Restoring model weights from the end of the best epoch.\n",
      "Epoch 00011: early stopping\n",
      "0.8415\n",
      "[[16  2]\n",
      " [11 53]]\n",
      "              precision    recall  f1-score   support\n",
      "\n",
      "           0       0.96      0.83      0.89        64\n",
      "           1       0.59      0.89      0.71        18\n",
      "\n",
      "    accuracy                           0.84        82\n",
      "   macro avg       0.78      0.86      0.80        82\n",
      "weighted avg       0.88      0.84      0.85        82\n",
      "\n",
      "\n",
      " AUC score : 0.8936631944444444\n",
      "\n",
      "#3 교차 검증 정확도 : 0.8415, 학습 데이터 크기 : 327, 검증 데이터 크기 : 82\n"
     ]
    },
    {
     "name": "stderr",
     "output_type": "stream",
     "text": [
      "C:\\Users\\dladu\\AppData\\Roaming\\Python\\Python38\\site-packages\\tensorflow\\python\\keras\\engine\\sequential.py:455: UserWarning: `model.predict_classes()` is deprecated and will be removed after 2021-01-01. Please use instead:* `np.argmax(model.predict(x), axis=-1)`,   if your model does multi-class classification   (e.g. if it uses a `softmax` last-layer activation).* `(model.predict(x) > 0.5).astype(\"int32\")`,   if your model does binary classification   (e.g. if it uses a `sigmoid` last-layer activation).\n",
      "  warnings.warn('`model.predict_classes()` is deprecated and '\n",
      "C:\\Users\\dladu\\AppData\\Roaming\\Python\\Python38\\site-packages\\tensorflow\\python\\keras\\engine\\sequential.py:430: UserWarning: `model.predict_proba()` is deprecated and will be removed after 2021-01-01. Please use `model.predict()` instead.\n",
      "  warnings.warn('`model.predict_proba()` is deprecated and '\n"
     ]
    },
    {
     "name": "stdout",
     "output_type": "stream",
     "text": [
      "Restoring model weights from the end of the best epoch.\n",
      "Epoch 00018: early stopping\n",
      "0.8171\n",
      "[[15  3]\n",
      " [12 52]]\n",
      "              precision    recall  f1-score   support\n",
      "\n",
      "           0       0.95      0.81      0.87        64\n",
      "           1       0.56      0.83      0.67        18\n",
      "\n",
      "    accuracy                           0.82        82\n",
      "   macro avg       0.75      0.82      0.77        82\n",
      "weighted avg       0.86      0.82      0.83        82\n",
      "\n",
      "\n",
      " AUC score : 0.8602430555555556\n",
      "\n",
      "#4 교차 검증 정확도 : 0.8171, 학습 데이터 크기 : 327, 검증 데이터 크기 : 82\n"
     ]
    },
    {
     "name": "stderr",
     "output_type": "stream",
     "text": [
      "C:\\Users\\dladu\\AppData\\Roaming\\Python\\Python38\\site-packages\\tensorflow\\python\\keras\\engine\\sequential.py:455: UserWarning: `model.predict_classes()` is deprecated and will be removed after 2021-01-01. Please use instead:* `np.argmax(model.predict(x), axis=-1)`,   if your model does multi-class classification   (e.g. if it uses a `softmax` last-layer activation).* `(model.predict(x) > 0.5).astype(\"int32\")`,   if your model does binary classification   (e.g. if it uses a `sigmoid` last-layer activation).\n",
      "  warnings.warn('`model.predict_classes()` is deprecated and '\n",
      "C:\\Users\\dladu\\AppData\\Roaming\\Python\\Python38\\site-packages\\tensorflow\\python\\keras\\engine\\sequential.py:430: UserWarning: `model.predict_proba()` is deprecated and will be removed after 2021-01-01. Please use `model.predict()` instead.\n",
      "  warnings.warn('`model.predict_proba()` is deprecated and '\n"
     ]
    },
    {
     "name": "stdout",
     "output_type": "stream",
     "text": [
      "Restoring model weights from the end of the best epoch.\n",
      "Epoch 00028: early stopping\n",
      "0.8519\n",
      "[[16  1]\n",
      " [11 53]]\n",
      "              precision    recall  f1-score   support\n",
      "\n",
      "           0       0.98      0.83      0.90        64\n",
      "           1       0.59      0.94      0.73        17\n",
      "\n",
      "    accuracy                           0.85        81\n",
      "   macro avg       0.79      0.88      0.81        81\n",
      "weighted avg       0.90      0.85      0.86        81\n",
      "\n",
      "\n",
      " AUC score : 0.9016544117647058\n",
      "\n",
      "#5 교차 검증 정확도 : 0.8519, 학습 데이터 크기 : 328, 검증 데이터 크기 : 81\n"
     ]
    },
    {
     "name": "stderr",
     "output_type": "stream",
     "text": [
      "C:\\Users\\dladu\\AppData\\Roaming\\Python\\Python38\\site-packages\\tensorflow\\python\\keras\\engine\\sequential.py:455: UserWarning: `model.predict_classes()` is deprecated and will be removed after 2021-01-01. Please use instead:* `np.argmax(model.predict(x), axis=-1)`,   if your model does multi-class classification   (e.g. if it uses a `softmax` last-layer activation).* `(model.predict(x) > 0.5).astype(\"int32\")`,   if your model does binary classification   (e.g. if it uses a `sigmoid` last-layer activation).\n",
      "  warnings.warn('`model.predict_classes()` is deprecated and '\n",
      "C:\\Users\\dladu\\AppData\\Roaming\\Python\\Python38\\site-packages\\tensorflow\\python\\keras\\engine\\sequential.py:430: UserWarning: `model.predict_proba()` is deprecated and will be removed after 2021-01-01. Please use `model.predict()` instead.\n",
      "  warnings.warn('`model.predict_proba()` is deprecated and '\n"
     ]
    }
   ],
   "source": [
    "for train, test in kfold.split(kd_data,em_y):\n",
    "    cnt_iter+=1\n",
    "    \n",
    "    X_train, X_test = kd_data[train], kd_data[test]\n",
    "    y_train, y_test = em_y[train], em_y[test]\n",
    "\n",
    "    model.fit(X_train,y_train,epochs=100,batch_size=64,verbose=0,callbacks=[early_stopping])#,validation_split=0.2,class_weight=class_dict)\n",
    "    pred = model.predict_classes(X_test)\n",
    "\n",
    "    acc = np.round(accuracy_score(y_test,pred),4)\n",
    "    print(acc)\n",
    "    \n",
    "    train_size = X_train.shape[0]\n",
    "    test_size = X_test.shape[0]\n",
    "    \n",
    "\n",
    "    fpr, tpr, thresholds = metrics.roc_curve(y_test, model.predict_proba(X_test)) #곡선 그리기\n",
    "\n",
    "    score = metrics.auc(fpr, tpr) #면적 구하기\n",
    "    AUC.append(score)\n",
    "    print(confusion_matrix(y_test,pred,labels=[1,0]))\n",
    "    print(classification_report(y_test,pred))\n",
    "    print('\\n AUC score : {0}'.format(score))\n",
    "    print('\\n#{0} 교차 검증 정확도 : {1}, 학습 데이터 크기 : {2}, 검증 데이터 크기 : {3}'.format(cnt_iter,acc,train_size,test_size))\n",
    "    cv_accuracy.append(acc)"
   ]
  },
  {
   "cell_type": "code",
   "execution_count": 39,
   "id": "96c98fde",
   "metadata": {},
   "outputs": [
    {
     "name": "stdout",
     "output_type": "stream",
     "text": [
      "0.8362399999999999\n"
     ]
    }
   ],
   "source": [
    "# 평균 AUC\n",
    "\n",
    "print(sum(cv_accuracy)/5)"
   ]
  },
  {
   "cell_type": "code",
   "execution_count": null,
   "id": "24d51bce",
   "metadata": {},
   "outputs": [],
   "source": []
  }
 ],
 "metadata": {
  "kernelspec": {
   "display_name": "Python 3",
   "language": "python",
   "name": "python3"
  },
  "language_info": {
   "codemirror_mode": {
    "name": "ipython",
    "version": 3
   },
   "file_extension": ".py",
   "mimetype": "text/x-python",
   "name": "python",
   "nbconvert_exporter": "python",
   "pygments_lexer": "ipython3",
   "version": "3.8.8"
  }
 },
 "nbformat": 4,
 "nbformat_minor": 5
}
